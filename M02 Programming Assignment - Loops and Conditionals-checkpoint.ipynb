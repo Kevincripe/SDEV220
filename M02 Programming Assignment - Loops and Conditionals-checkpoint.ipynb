{
 "cells": [
  {
   "cell_type": "code",
   "execution_count": 6,
   "id": "c2b8cf61-9baf-4283-8ef4-0232ff730297",
   "metadata": {},
   "outputs": [
    {
     "name": "stdin",
     "output_type": "stream",
     "text": [
      "Enter a number between 1 and 10 7\n"
     ]
    },
    {
     "name": "stdout",
     "output_type": "stream",
     "text": [
      "just right\n"
     ]
    }
   ],
   "source": [
    "# 4.1\n",
    "secret = 7\n",
    "guess = int(input(\"Enter a number between 1 and 10\"))\n",
    "\n",
    "if guess == secret:\n",
    "            print('just right')\n",
    "\n",
    "elif guess > secret:\n",
    "            print('too high')\n",
    "\n",
    "else: \n",
    "            print('too low')"
   ]
  },
  {
   "cell_type": "code",
   "execution_count": 7,
   "id": "236653ae-8f11-43d7-87f5-12ada26fc2a9",
   "metadata": {},
   "outputs": [
    {
     "name": "stdout",
     "output_type": "stream",
     "text": [
      "Its a cherry\n",
      "Its a pea\n"
     ]
    }
   ],
   "source": [
    "# 4.2\n",
    "\n",
    "small = True\n",
    "green = True\n",
    "if small:\n",
    "    if small:\n",
    "        print('Its a cherry')\n",
    "    if small and green:\n",
    "        print('Its a pea')\n",
    "\n",
    "else: # large\n",
    "    if green:\n",
    "        print('Its a watermelo')\n",
    "    else:\n",
    "        print('Its a pumpkin')"
   ]
  },
  {
   "cell_type": "code",
   "execution_count": 8,
   "id": "b054c3a6-3646-4421-b29d-cff27d0d5ad1",
   "metadata": {},
   "outputs": [
    {
     "name": "stdout",
     "output_type": "stream",
     "text": [
      "3\n",
      "2\n",
      "1\n",
      "0\n"
     ]
    }
   ],
   "source": [
    "# 6.1\n",
    "STATIC_LIST = [3,2,1,0]\n",
    "for x in STATIC_LIST:\n",
    "    print(x)"
   ]
  },
  {
   "cell_type": "code",
   "execution_count": 9,
   "id": "dc73ddeb-61b3-4d4c-8ad0-8e08ba126a0b",
   "metadata": {},
   "outputs": [
    {
     "name": "stdout",
     "output_type": "stream",
     "text": [
      "1\n",
      "too low\n",
      "2\n",
      "too low\n",
      "3\n",
      "too low\n",
      "4\n",
      "too low\n",
      "5\n",
      "too low\n",
      "6\n",
      "7\n",
      "found it!\n"
     ]
    }
   ],
   "source": [
    "# 6.2\n",
    "\n",
    "# number to find plus counter\n",
    "guess_me = 7\n",
    "number = 1\n",
    "\n",
    "# while loop that counts up to number we are looking for\n",
    "while number < guess_me:\n",
    "    print(number)\n",
    "    number += 1\n",
    "    # if block to find number\n",
    "    if number == guess_me:\n",
    "            print(number)\n",
    "            print('found it!')\n",
    "\n",
    "    # elif if lower than number\n",
    "    elif number < guess_me:\n",
    "            print('too low')\n",
    "\n",
    "    # otherwise print oops\n",
    "    else:\n",
    "            print('oops')\n",
    "            break\n",
    "\n",
    "    "
   ]
  },
  {
   "cell_type": "code",
   "execution_count": 10,
   "id": "54927562-f660-4bc8-aaff-5ca62e935747",
   "metadata": {},
   "outputs": [
    {
     "name": "stdout",
     "output_type": "stream",
     "text": [
      "0\n",
      "too low\n",
      "1\n",
      "too low\n",
      "2\n",
      "too low\n",
      "3\n",
      "too low\n",
      "4\n",
      "too low\n",
      "5\n",
      "found it!\n"
     ]
    }
   ],
   "source": [
    "# 6.3\n",
    "\n",
    "guess_me = 5\n",
    "number = 1\n",
    "\n",
    "# for loop to iterate through numbers\n",
    "for number in range(10):\n",
    "        print(number)\n",
    "        # if block's to catch number\n",
    "        if  number < guess_me:\n",
    "                print('too low')\n",
    "\n",
    "        elif number == guess_me:\n",
    "                print('found it!')\n",
    "                break\n",
    "        else:\n",
    "                print('oops')\n",
    "                break\n",
    "                "
   ]
  },
  {
   "cell_type": "code",
   "execution_count": null,
   "id": "9b5d057b-96a1-43e1-a130-770e76c827d8",
   "metadata": {},
   "outputs": [],
   "source": []
  }
 ],
 "metadata": {
  "kernelspec": {
   "display_name": "Python 3 (ipykernel)",
   "language": "python",
   "name": "python3"
  },
  "language_info": {
   "codemirror_mode": {
    "name": "ipython",
    "version": 3
   },
   "file_extension": ".py",
   "mimetype": "text/x-python",
   "name": "python",
   "nbconvert_exporter": "python",
   "pygments_lexer": "ipython3",
   "version": "3.11.7"
  }
 },
 "nbformat": 4,
 "nbformat_minor": 5
}
